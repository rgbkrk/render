{
 "cells": [
  {
   "cell_type": "markdown",
   "metadata": {},
   "source": [
    "## Render\n",
    "\n",
    "I created this module because I wanted a simple way to describe how to render pydantic models. I almost always repeat the same logic across pydantic models. Maybe I even want the same on dataclasses.\n",
    "\n",
    "To explore this space a bit, I've created `AutoViewModel`. This lets you update fields and have them update within the notebook. This is best viewed in a live iteration of a notebook."
   ]
  },
  {
   "cell_type": "code",
   "execution_count": 5,
   "metadata": {},
   "outputs": [
    {
     "data": {
      "text/html": [
       "0.0 seconds left"
      ],
      "text/plain": [
       "Countdown(display_id='4bd754da-8517-400e-95f6-8cb5b72164ea', time=0.0)"
      ]
     },
     "metadata": {},
     "output_type": "display_data"
    }
   ],
   "source": [
    "from render import AutoViewModel\n",
    "from time import sleep\n",
    "\n",
    "class Countdown(AutoViewModel):\n",
    "    time: float = 10\n",
    "\n",
    "    def start(self):\n",
    "        while self.time > 0:\n",
    "            self.time -= 1\n",
    "            sleep(1)\n",
    "\n",
    "    def render(self):\n",
    "        return f\"{self.time} seconds left\"\n",
    "\n",
    "countdown = Countdown(time=5)\n",
    "\n",
    "countdown.display()\n",
    "countdown.start()\n"
   ]
  },
  {
   "cell_type": "markdown",
   "metadata": {},
   "source": [
    "You can return a plain string or HTML in render."
   ]
  },
  {
   "cell_type": "code",
   "execution_count": 6,
   "metadata": {},
   "outputs": [
    {
     "data": {
      "text/html": [
       "<b>0.0</b> seconds left"
      ],
      "text/plain": [
       "CountdownPretty(display_id='e3fe5b72-626b-4756-ba57-a53179ed6c5d', time=0.0)"
      ]
     },
     "metadata": {},
     "output_type": "display_data"
    }
   ],
   "source": [
    "from render import AutoViewModel\n",
    "from time import sleep\n",
    "\n",
    "class CountdownPretty(AutoViewModel):\n",
    "    time: float = 10\n",
    "\n",
    "    def start(self):\n",
    "        while self.time > 0:\n",
    "            self.time -= 1\n",
    "            sleep(1)\n",
    "\n",
    "    def render(self):\n",
    "        return f\"<b>{self.time}</b> seconds left\"\n",
    "\n",
    "countdown = CountdownPretty(time=3)\n",
    "\n",
    "countdown.display()\n",
    "countdown.start()\n"
   ]
  },
  {
   "cell_type": "code",
   "execution_count": null,
   "metadata": {},
   "outputs": [],
   "source": []
  }
 ],
 "metadata": {
  "kernelspec": {
   "display_name": "Python 3",
   "language": "python",
   "name": "python3"
  },
  "language_info": {
   "codemirror_mode": {
    "name": "ipython",
    "version": 3
   },
   "file_extension": ".py",
   "mimetype": "text/x-python",
   "name": "python",
   "nbconvert_exporter": "python",
   "pygments_lexer": "ipython3",
   "version": "3.11.6"
  }
 },
 "nbformat": 4,
 "nbformat_minor": 2
}
