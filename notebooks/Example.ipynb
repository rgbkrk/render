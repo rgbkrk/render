{
 "cells": [
  {
   "cell_type": "markdown",
   "metadata": {},
   "source": [
    "## Spork\n",
    "\n",
    "I created this module because I wanted a simple way to describe how to render pydantic models. I almost always repeat the same logic across pydantic models. Maybe I even want the same on dataclasses.\n",
    "\n",
    "To explore this space a bit, I've created a `View` and an `AutoView`. This lets you update fields and have them update within the notebook. This notebook is best viewed in a live running notebook environment (jupyterlab, VS Code, Colab, etc.)"
   ]
  },
  {
   "cell_type": "code",
   "execution_count": 1,
   "metadata": {},
   "outputs": [
    {
     "data": {
      "text/html": [
       "<span style='font-size: 2em'>🥰</span>"
      ],
      "text/plain": [
       "BigEmoji(display_id='7974ecc7-bddb-4691-9fd9-07b1c1306062', emoji='🥰')"
      ]
     },
     "metadata": {},
     "output_type": "display_data"
    }
   ],
   "source": [
    "from spork import View\n",
    "\n",
    "class BigEmoji(View):\n",
    "    emoji: str = \"😄\"\n",
    "    \n",
    "    def render(self):\n",
    "        return f\"<span style='font-size: 2em'>{self.emoji}</span>\"\n",
    "\n",
    "face = BigEmoji()\n",
    "face.display()\n",
    "face.emoji = \"🥰\"\n",
    "face.update()"
   ]
  },
  {
   "cell_type": "code",
   "execution_count": 2,
   "metadata": {},
   "outputs": [
    {
     "data": {
      "text/html": [
       "0.00 seconds left"
      ],
      "text/plain": [
       "Countdown(display_id='4359def9-47bf-4a8f-bd54-2f755edec227', time=0, delta=0.01)"
      ]
     },
     "metadata": {},
     "output_type": "display_data"
    }
   ],
   "source": [
    "from spork import AutoView\n",
    "from pydantic import BaseModel\n",
    "from time import sleep\n",
    "\n",
    "class Countdown(AutoView):\n",
    "    time: float = 10\n",
    "    delta: float = .01\n",
    "\n",
    "    def start(self):\n",
    "        while self.time > 0:\n",
    "            self.time -= self.delta\n",
    "            if self.time < 0:\n",
    "                self.time = 0\n",
    "            sleep(self.delta)\n",
    "\n",
    "    def render(self):\n",
    "        return f\"{self.time:.2f} seconds left\"\n",
    "\n",
    "countdown = Countdown(time=1)\n",
    "\n",
    "countdown.display()\n",
    "countdown.start()"
   ]
  },
  {
   "cell_type": "markdown",
   "metadata": {},
   "source": [
    "### Returning HTML\n",
    "\n",
    "You can return raw HTML to render a view for your model as well."
   ]
  },
  {
   "cell_type": "code",
   "execution_count": 3,
   "metadata": {},
   "outputs": [
    {
     "data": {
      "text/html": [
       "\n",
       "    <div style=\"padding: 10px; background-color: #f0f0f0; color: black; border-radius: 5px; text-align: center; width: 250px; margin: 10px auto;\">\n",
       "        <span style=\"font-size: 20px; font-weight: bold;\">Time Left:</span>\n",
       "        <div style=\"font-size: 24px; color: #d9534f; font-family: 'Courier New', monospace;\">\n",
       "            0.00\n",
       "        </div>\n",
       "        <div style=\"font-size: 20px; color: black;\">seconds</div>\n",
       "    </div>\n",
       "        "
      ],
      "text/plain": [
       "CountdownPretty(display_id='611ff5c9-23f7-44aa-a497-ec55b31e097a', time=0, delta=0.01)"
      ]
     },
     "metadata": {},
     "output_type": "display_data"
    }
   ],
   "source": [
    "from spork import AutoView\n",
    "from time import sleep\n",
    "\n",
    "class CountdownPretty(AutoView):\n",
    "    time: float = 10\n",
    "    delta: float = .01\n",
    "\n",
    "    def start(self):\n",
    "        while self.time > 0:\n",
    "            self.time -= self.delta\n",
    "            if self.time < 0:\n",
    "                self.time = 0\n",
    "            sleep(self.delta)\n",
    "\n",
    "    def render(self):\n",
    "        color = \"#4fd953\"\n",
    "        if self.time <= 0:\n",
    "            color = \"#d9534f\"\n",
    "        \n",
    "        return f'''\n",
    "    <div style=\"padding: 10px; background-color: #f0f0f0; color: black; border-radius: 5px; text-align: center; width: 250px; margin: 10px auto;\">\n",
    "        <span style=\"font-size: 20px; font-weight: bold;\">Time Left:</span>\n",
    "        <div style=\"font-size: 24px; color: {color}; font-family: 'Courier New', monospace;\">\n",
    "            {self.time:0.2f}\n",
    "        </div>\n",
    "        <div style=\"font-size: 20px; color: black;\">seconds</div>\n",
    "    </div>\n",
    "        '''\n",
    "\n",
    "countdown = CountdownPretty(time=1)\n",
    "\n",
    "countdown.display()\n",
    "countdown.start()"
   ]
  },
  {
   "cell_type": "markdown",
   "metadata": {},
   "source": [
    "## VDOM or anything with a `to_html`\n",
    "\n",
    "You can also use the composable components from VDOM to render your objects."
   ]
  },
  {
   "cell_type": "code",
   "execution_count": 4,
   "metadata": {},
   "outputs": [
    {
     "data": {
      "text/html": [
       "<div style=\"background-color: #f0f0f0; border-radius: 5px; color: black; font-family: &#x27;Courier New&#x27;, monospace; margin: 10px auto; padding: 10px; text-align: center; width: 250px\"><span style=\"font-size: 20px; font-weight: bold\">Time Left:</span><div style=\"color: #d9534f; font-family: &#x27;Courier New&#x27;, monospace; font-size: 24px\">0.00</div><div style=\"color: black; font-size: 20px\">seconds</div></div>"
      ],
      "text/plain": [
       "CountdownPretty(display_id='b1d2b90c-0fad-4b51-aa9b-49f18f41fc0c', time=0, delta=0.01)"
      ]
     },
     "metadata": {},
     "output_type": "display_data"
    }
   ],
   "source": [
    "from spork import AutoView\n",
    "from time import sleep\n",
    "from vdom.helpers import div, span\n",
    "\n",
    "class CountdownPretty(AutoView):\n",
    "    time: float = 10\n",
    "    delta: float = 0.01\n",
    "\n",
    "    def start(self):\n",
    "        while self.time > 0:\n",
    "            self.time -= self.delta\n",
    "            if self.time < 0:\n",
    "                self.time = 0\n",
    "            sleep(self.delta)\n",
    "\n",
    "    def render(self):\n",
    "        return div(\n",
    "            style={\n",
    "                \"padding\": \"10px\",\n",
    "                \"backgroundColor\": \"#f0f0f0\",\n",
    "                \"borderRadius\": \"5px\",\n",
    "                \"textAlign\": \"center\",\n",
    "                \"width\": \"250px\",\n",
    "                \"margin\": \"10px auto\",\n",
    "                \"color\": \"black\",\n",
    "                \"fontFamily\": \"'Courier New', monospace\"\n",
    "            },\n",
    "            children=[\n",
    "                span(\n",
    "                    \"Time Left:\",\n",
    "                    style={\n",
    "                        \"fontSize\": \"20px\",\n",
    "                        \"fontWeight\": \"bold\"\n",
    "                    }\n",
    "                ),\n",
    "                div(\n",
    "                    f\"{self.time:02.2f}\",\n",
    "                    style={\n",
    "                        \"fontFamily\": \"'Courier New', monospace\",\n",
    "                        \"fontSize\": \"24px\",\n",
    "                        \"color\": \"#4fd953\" if self.time > 0 else \"#d9534f\"\n",
    "                    }\n",
    "                ),\n",
    "                div(\n",
    "                    \"seconds\",\n",
    "                    style={\n",
    "                        \"fontSize\": \"20px\",\n",
    "                        \"color\": \"black\"\n",
    "                    }\n",
    "                )\n",
    "            ]\n",
    "        )\n",
    "\n",
    "countdown = CountdownPretty(time=3)\n",
    "countdown.display()\n",
    "countdown.start()"
   ]
  },
  {
   "cell_type": "markdown",
   "metadata": {},
   "source": [
    "You can also use existing pydantic models by creating a new class that inherits from the original and the `AutoView`:"
   ]
  },
  {
   "cell_type": "code",
   "execution_count": 5,
   "metadata": {},
   "outputs": [
    {
     "data": {
      "text/html": [
       "<b>Kyle</b> is 35 years old."
      ],
      "text/plain": [
       "RecordView(display_id='df347d47-12e5-4a66-b6d0-1d4cc9b2732b', name='Kyle', age=35)"
      ]
     },
     "metadata": {},
     "output_type": "display_data"
    }
   ],
   "source": [
    "from spork import AutoView\n",
    "from pydantic import BaseModel\n",
    "\n",
    "class Record(BaseModel):\n",
    "    name: str\n",
    "    age: int\n",
    "\n",
    "class RecordView(Record, AutoView):\n",
    "    def render(self):\n",
    "        return f\"<b>{self.name}</b> is {self.age} years old.\"\n",
    "\n",
    "\n",
    "rv = RecordView(name=\"Kyle\", age=35)\n",
    "rv.display()"
   ]
  },
  {
   "cell_type": "markdown",
   "metadata": {},
   "source": [
    "There are also decorators that allow for using `render` without having to inherit from the `View`.\n",
    "\n"
   ]
  },
  {
   "cell_type": "code",
   "execution_count": 6,
   "metadata": {},
   "outputs": [
    {
     "data": {
      "text/html": [
       "<b>Kyle</b> is 35 years old."
      ],
      "text/plain": [
       "Record(name='Kyle', age=35)"
      ]
     },
     "metadata": {},
     "output_type": "display_data"
    }
   ],
   "source": [
    "from spork import renderable\n",
    "\n",
    "@renderable\n",
    "class Record(BaseModel):\n",
    "    name: str\n",
    "    age: int\n",
    "\n",
    "    def render(self):\n",
    "        return f\"<b>{self.name}</b> is {self.age} years old.\"\n",
    "    \n",
    "display(Record(name=\"Kyle\", age=35))\n"
   ]
  }
 ],
 "metadata": {
  "kernelspec": {
   "display_name": "Python 3 (ipykernel)",
   "language": "python",
   "name": "python3"
  },
  "language_info": {
   "codemirror_mode": {
    "name": "ipython",
    "version": 3
   },
   "file_extension": ".py",
   "mimetype": "text/x-python",
   "name": "python",
   "nbconvert_exporter": "python",
   "pygments_lexer": "ipython3",
   "version": "3.11.7"
  }
 },
 "nbformat": 4,
 "nbformat_minor": 4
}
