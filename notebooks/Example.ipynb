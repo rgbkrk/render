{
 "cells": [
  {
   "cell_type": "markdown",
   "metadata": {},
   "source": [
    "## Spork\n",
    "\n",
    "I created this module because I wanted a simple way to describe how to render pydantic models. I almost always repeat the same logic across pydantic models. Maybe I even want the same on dataclasses.\n",
    "\n",
    "To explore this space a bit, I've created a `View` and an `AutoView`. This lets you update fields and have them update within the notebook. This notebook is best viewed in a live running notebook environment (jupyterlab, VS Code, Colab, etc.)"
   ]
  },
  {
   "cell_type": "code",
   "execution_count": null,
   "metadata": {},
   "outputs": [],
   "source": [
    "from spork import View\n",
    "\n",
    "class BigEmoji(View):\n",
    "    emoji: str = \"😄\"\n",
    "    \n",
    "    def render(self):\n",
    "        return f\"<span style='font-size: 2em'>{self.emoji}</span>\"\n",
    "\n",
    "face = BigEmoji()\n",
    "face.display()\n",
    "face.emoji = \"🥰\"\n",
    "face.update()"
   ]
  },
  {
   "cell_type": "code",
   "execution_count": null,
   "metadata": {},
   "outputs": [],
   "source": [
    "from spork import AutoView\n",
    "from time import sleep\n",
    "\n",
    "class Countdown(AutoView):\n",
    "    time: float = 10\n",
    "    delta: float = .01\n",
    "\n",
    "    def start(self):\n",
    "        while self.time > 0:\n",
    "            self.time -= self.delta\n",
    "            if self.time < 0:\n",
    "                self.time = 0\n",
    "            sleep(self.delta)\n",
    "\n",
    "    def render(self):\n",
    "        return f\"{self.time:.2f} seconds left\"\n",
    "\n",
    "countdown = Countdown(time=3)\n",
    "\n",
    "countdown.display()\n",
    "countdown.start()"
   ]
  },
  {
   "cell_type": "markdown",
   "metadata": {},
   "source": []
  },
  {
   "cell_type": "markdown",
   "metadata": {},
   "source": [
    "### Returning HTML\n",
    "\n",
    "You can return raw HTML to render a view for your model as well."
   ]
  },
  {
   "cell_type": "code",
   "execution_count": null,
   "metadata": {},
   "outputs": [],
   "source": [
    "from spork import AutoView\n",
    "from time import sleep\n",
    "\n",
    "class CountdownPretty(AutoView):\n",
    "    time: float = 10\n",
    "    delta: float = .01\n",
    "\n",
    "    def start(self):\n",
    "        while self.time > 0:\n",
    "            self.time -= self.delta\n",
    "            if self.time < 0:\n",
    "                self.time = 0\n",
    "            sleep(self.delta)\n",
    "\n",
    "    def render(self):\n",
    "        color = \"#4fd953\"\n",
    "        if self.time <= 0:\n",
    "            color = \"#d9534f\"\n",
    "        \n",
    "        return f'''\n",
    "    <div style=\"padding: 10px; background-color: #f0f0f0; color: black; border-radius: 5px; text-align: center; width: 250px; margin: 10px auto;\">\n",
    "        <span style=\"font-size: 20px; font-weight: bold;\">Time Left:</span>\n",
    "        <div style=\"font-size: 24px; color: {color}; font-family: 'Courier New', monospace;\">\n",
    "            {self.time:0.2f}\n",
    "        </div>\n",
    "        <div style=\"font-size: 20px; color: black;\">seconds</div>\n",
    "    </div>\n",
    "        '''\n",
    "\n",
    "countdown = CountdownPretty(time=3)\n",
    "\n",
    "countdown.display()\n",
    "countdown.start()"
   ]
  },
  {
   "cell_type": "markdown",
   "metadata": {},
   "source": [
    "## VDOM or anything with a `to_html`\n",
    "\n",
    "You can also use the composable components from VDOM to render your objects."
   ]
  },
  {
   "cell_type": "code",
   "execution_count": null,
   "metadata": {},
   "outputs": [],
   "source": [
    "from spork import AutoView\n",
    "from time import sleep\n",
    "from vdom.helpers import div, span\n",
    "\n",
    "class CountdownPretty(AutoView):\n",
    "    time: float = 10\n",
    "    delta: float = 0.01\n",
    "\n",
    "    def start(self):\n",
    "        while self.time > 0:\n",
    "            self.time -= self.delta\n",
    "            if self.time < 0:\n",
    "                self.time = 0\n",
    "            sleep(self.delta)\n",
    "\n",
    "    def render(self):\n",
    "        return div(\n",
    "            style={\n",
    "                \"padding\": \"10px\",\n",
    "                \"backgroundColor\": \"#f0f0f0\",\n",
    "                \"borderRadius\": \"5px\",\n",
    "                \"textAlign\": \"center\",\n",
    "                \"width\": \"250px\",\n",
    "                \"margin\": \"10px auto\",\n",
    "                \"color\": \"black\",\n",
    "                \"fontFamily\": \"'Courier New', monospace\"\n",
    "            },\n",
    "            children=[\n",
    "                span(\n",
    "                    \"Time Left:\",\n",
    "                    style={\n",
    "                        \"fontSize\": \"20px\",\n",
    "                        \"fontWeight\": \"bold\"\n",
    "                    }\n",
    "                ),\n",
    "                div(\n",
    "                    f\"{self.time:02.2f}\",\n",
    "                    style={\n",
    "                        \"fontFamily\": \"'Courier New', monospace\",\n",
    "                        \"fontSize\": \"24px\",\n",
    "                        \"color\": \"#4fd953\" if self.time > 0 else \"#d9534f\"\n",
    "                    }\n",
    "                ),\n",
    "                div(\n",
    "                    \"seconds\",\n",
    "                    style={\n",
    "                        \"fontSize\": \"20px\",\n",
    "                        \"color\": \"black\"\n",
    "                    }\n",
    "                )\n",
    "            ]\n",
    "        )\n",
    "\n",
    "countdown = CountdownPretty(time=1)\n",
    "countdown.display()\n",
    "countdown.start()"
   ]
  },
  {
   "cell_type": "markdown",
   "metadata": {},
   "source": [
    "You can also use existing pydantic models by creating a new class that inherits from the original and the `AutoViewModel`:"
   ]
  },
  {
   "cell_type": "code",
   "execution_count": null,
   "metadata": {},
   "outputs": [],
   "source": [
    "from spork import AutoView\n",
    "from pydantic import BaseModel\n",
    "\n",
    "class Record(BaseModel):\n",
    "    name: str\n",
    "    age: int\n",
    "\n",
    "class RecordView(Record, AutoView):\n",
    "    def render(self):\n",
    "        return f\"<b>{self.name}</b> is {self.age} years old.\"\n",
    "\n",
    "\n",
    "rv = RecordView(name=\"Kyle\", age=35)\n",
    "rv.display()"
   ]
  }
 ],
 "metadata": {
  "kernelspec": {
   "display_name": "Python 3 (ipykernel)",
   "language": "python",
   "name": "python3"
  },
  "language_info": {
   "codemirror_mode": {
    "name": "ipython",
    "version": 3
   },
   "file_extension": ".py",
   "mimetype": "text/x-python",
   "name": "python",
   "nbconvert_exporter": "python",
   "pygments_lexer": "ipython3",
   "version": "3.11.7"
  }
 },
 "nbformat": 4,
 "nbformat_minor": 4
}
